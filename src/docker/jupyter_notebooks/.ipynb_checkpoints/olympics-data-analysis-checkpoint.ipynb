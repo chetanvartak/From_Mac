{
 "cells": [
  {
   "cell_type": "code",
   "execution_count": null,
   "metadata": {
    "_cell_guid": "b1076dfc-b9ad-4769-8c92-a6c4dae69d19",
    "_uuid": "8f2839f25d086af736a60e9eeb907d3b93b6e0e5"
   },
   "outputs": [],
   "source": [
    "# This Python 3 environment comes with many helpful analytics libraries installed\n",
    "# It is defined by the kaggle/python docker image: https://github.com/kaggle/docker-python\n",
    "# For example, here's several helpful packages to load in \n",
    "\n",
    "import numpy as np # linear algebra\n",
    "import pandas as pd # data processing, CSV file I/O (e.g. pd.read_csv)\n",
    "\n",
    "# Input data files are available in the \"../input/\" directory.\n",
    "# For example, running this (by clicking run or pressing Shift+Enter) will list the files in the input directory\n",
    "\n",
    "import os\n",
    "print(os.listdir(\"../input\"))\n",
    "import matplotlib.pyplot as plt\n",
    "\n",
    "# Any results you write to the current directory are saved as output."
   ]
  },
  {
   "cell_type": "code",
   "execution_count": null,
   "metadata": {
    "_cell_guid": "79c7e3d0-c299-4dcb-8224-4455121ee9b0",
    "_uuid": "d629ff2d2480ee46fbb7e2d37f6b5fab8052498a"
   },
   "outputs": [],
   "source": [
    "winter=pd.read_csv(\"../input/winter.csv\")\n",
    "winter.head()"
   ]
  },
  {
   "cell_type": "code",
   "execution_count": null,
   "metadata": {
    "_uuid": "b78ace02761d26bb8fd4fbec0704227ea58c359b"
   },
   "outputs": [],
   "source": [
    "summer=pd.read_csv(\"../input/summer.csv\")\n",
    "summer.head()"
   ]
  },
  {
   "cell_type": "code",
   "execution_count": null,
   "metadata": {
    "_uuid": "ba0016eedabf5659aecdad5ce7ef6857074919e4"
   },
   "outputs": [],
   "source": [
    "#checking for null values for summer olympics\n",
    "summer.isnull().any()"
   ]
  },
  {
   "cell_type": "code",
   "execution_count": null,
   "metadata": {
    "_uuid": "724aa29159073bd4b1a67c8da156962dcbd4afe2"
   },
   "outputs": [],
   "source": [
    "#checking for null values for winter olympics\n",
    "winter.isnull().any()"
   ]
  },
  {
   "cell_type": "code",
   "execution_count": null,
   "metadata": {
    "_uuid": "78966c8ec926b2a4759bafc5f06e8cdde6d2ca4b"
   },
   "outputs": [],
   "source": [
    "#data for year wise  and city wise olympics for summer\n",
    "summer.groupby(\"Year\").City.first()"
   ]
  },
  {
   "cell_type": "code",
   "execution_count": null,
   "metadata": {
    "_uuid": "a829def4a048baecc9f69f9cd691360166596451"
   },
   "outputs": [],
   "source": [
    "#data for year wise  and city wise olympics for summer\n",
    "winter.groupby(\"Year\").City.first()"
   ]
  },
  {
   "cell_type": "code",
   "execution_count": null,
   "metadata": {
    "_uuid": "621cd507f405360cea442f5c35b27d54f077b984"
   },
   "outputs": [],
   "source": [
    "#Countries with most medals in summer olympics from 1st to till date olympics (Top 10 teams)\n",
    "summer.Country.value_counts().head(10).plot(kind=\"bar\");"
   ]
  },
  {
   "cell_type": "code",
   "execution_count": null,
   "metadata": {
    "_uuid": "794e7d7ddaae2a86254b7e7a1a97aff2f9221c06"
   },
   "outputs": [],
   "source": [
    "#Countries with most medals in winter olympics from 1st to till date olympics (Top 10 teams)\n",
    "winter.Country.value_counts().head(10).plot(kind=\"bar\");"
   ]
  },
  {
   "cell_type": "code",
   "execution_count": null,
   "metadata": {
    "_uuid": "c70f80fc44a408aed8eee5fc3eed7048cd567d79"
   },
   "outputs": [],
   "source": [
    "#overall status of medal winners in summer and winter olympics combined (top 10)\n",
    "combined_olympics=pd.concat([summer,winter])\n",
    "combined_olympics.Country.value_counts().head(10).plot(kind=\"bar\")"
   ]
  },
  {
   "cell_type": "code",
   "execution_count": null,
   "metadata": {
    "_uuid": "fae4e9ffb66d003d964026e4f11f1daf5190dfc6"
   },
   "outputs": [],
   "source": [
    "#listing top 10 teams\n",
    "top_medal=summer.Country.value_counts()\n",
    "top_summer=top_medal.reset_index()\n",
    "top_summer=top_summer.rename(columns={\"index\":\"Team\"})\n",
    "top_s=list(top_summer.Team.head(10))\n",
    "top_s\n"
   ]
  },
  {
   "cell_type": "code",
   "execution_count": null,
   "metadata": {
    "_uuid": "9a6f8f8da6e04f4a87be7ffc55597dd61dfc4604"
   },
   "outputs": [],
   "source": [
    "#Top teams to win gold, silver, bronze for summer olympics till date top 10\n",
    "medal_top=summer[[\"Year\",\"Country\",\"Medal\"]]\n",
    "medal_top.groupby([\"Country\",\"Medal\"]).Year.count().reset_index().pivot(\"Country\",\"Medal\",\"Year\").fillna(0).sort_values(\"Gold\",ascending=False).head(10).plot(kind=\"bar\");\n"
   ]
  },
  {
   "cell_type": "code",
   "execution_count": null,
   "metadata": {
    "_uuid": "9a4f223ca6db08d2daabf3da89ca935a8db606af"
   },
   "outputs": [],
   "source": [
    "#Top teams to win gold, silver, bronze for winter olympics till date (top 10)\n",
    "medal_top=winter[[\"Year\",\"Country\",\"Medal\"]]\n",
    "medal_top.groupby([\"Country\",\"Medal\"]).Year.count().reset_index().pivot(\"Country\",\"Medal\",\"Year\").fillna(0).sort_values(\"Gold\",ascending=False).head(10).plot(kind=\"bar\");"
   ]
  },
  {
   "cell_type": "code",
   "execution_count": null,
   "metadata": {
    "_uuid": "7587615f24b42e0ca4d2f0c822cf07c67e5e36ea"
   },
   "outputs": [],
   "source": [
    "#Top teams to win gold, silver, bronze for summer and  winter olympics till date (top 10)\n",
    "medal_wise=combined_olympics[[\"Year\",\"Country\",\"Medal\"]]\n",
    "medal_wise.groupby([\"Country\",\"Medal\"]).Year.count().reset_index().pivot(\"Country\",\"Medal\",\"Year\").fillna(0).sort_values(\"Gold\",ascending=False).head(10).plot(kind=\"bar\")"
   ]
  },
  {
   "cell_type": "code",
   "execution_count": null,
   "metadata": {
    "_uuid": "c5c10751e297e4cef60c5b6bb58c510172a3d608"
   },
   "outputs": [],
   "source": [
    "#athlete who has won maximum olympics gold till date in summer olympics top(10)\n",
    "summer.Athlete.value_counts().head(10)"
   ]
  },
  {
   "cell_type": "code",
   "execution_count": null,
   "metadata": {
    "_uuid": "baaa433c2498d20c0c11d2dfee3b40f73003b116"
   },
   "outputs": [],
   "source": [
    "#athlete who has won maximum olympics gold till date in winter olympics top(10)\n",
    "winter.Athlete.value_counts().head(10)"
   ]
  },
  {
   "cell_type": "code",
   "execution_count": null,
   "metadata": {
    "_uuid": "464e6fdafd437cc34e4a6e73f0b8da0e56e2555f"
   },
   "outputs": [],
   "source": [
    "#Year wise male and female participation summer olympics\n",
    "summer.groupby([\"Year\",\"Gender\"]).Medal.count().reset_index().pivot(\"Year\",\"Gender\",\"Medal\").fillna(0).plot();\n",
    "ax=plt.gcf()\n",
    "ax.set_size_inches(12,8)\n",
    "\n"
   ]
  },
  {
   "cell_type": "code",
   "execution_count": null,
   "metadata": {
    "_uuid": "4c5203c6d2858579dc7693038b778a9e7083f755"
   },
   "outputs": [],
   "source": [
    "#Maximum number of participants discipline wise ( summer top 10)\n",
    "summer.Discipline.value_counts().head(10).plot(kind=\"bar\")\n",
    "ax=plt.gcf()\n",
    "ax.set_size_inches(10,8)\n"
   ]
  },
  {
   "cell_type": "code",
   "execution_count": null,
   "metadata": {
    "_uuid": "3e1a0be309d9ee9a62c6b0c43bfeef5795c3c623"
   },
   "outputs": [],
   "source": [
    "#Maximum number of participants discipline wise ( winter top 10)\n",
    "winter.Discipline.value_counts().head(10).plot(kind=\"bar\")\n",
    "ax=plt.gcf()\n",
    "ax.set_size_inches(10,8)"
   ]
  },
  {
   "cell_type": "code",
   "execution_count": null,
   "metadata": {
    "_uuid": "88925e1a2532b5da730608497c14326d72acded4"
   },
   "outputs": [],
   "source": []
  },
  {
   "cell_type": "code",
   "execution_count": null,
   "metadata": {
    "_uuid": "96a129066be6d92ed4e41079bb35deeedda42fdf"
   },
   "outputs": [],
   "source": []
  }
 ],
 "metadata": {
  "kernelspec": {
   "display_name": "Python 3",
   "language": "python",
   "name": "python3"
  },
  "language_info": {
   "codemirror_mode": {
    "name": "ipython",
    "version": 3
   },
   "file_extension": ".py",
   "mimetype": "text/x-python",
   "name": "python",
   "nbconvert_exporter": "python",
   "pygments_lexer": "ipython3",
   "version": "3.8.5"
  }
 },
 "nbformat": 4,
 "nbformat_minor": 1
}
